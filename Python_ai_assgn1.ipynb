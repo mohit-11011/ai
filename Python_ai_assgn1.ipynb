{
 "cells": [
  {
   "cell_type": "code",
   "execution_count": 1,
   "id": "11cf6dda",
   "metadata": {},
   "outputs": [],
   "source": [
    "# name:-Arushi gupta\n",
    "# roll number=:102053020\n",
    "# batch :- 2CO5\n",
    "# Assignment 1"
   ]
  },
  {
   "cell_type": "code",
   "execution_count": 2,
   "id": "0e3882e3",
   "metadata": {},
   "outputs": [
    {
     "name": "stdout",
     "output_type": "stream",
     "text": [
      "enter the value of x and n 5 6\n",
      "(1)+(5/1)+(25/2)+(125/6)+(625/24)+(3125/120)+(15625/720)=\n",
      "\n",
      "the ans is 113.11805555555556\n"
     ]
    }
   ],
   "source": [
    "#q1\n",
    "x,n=map(int,input('enter the value of x and n ').split())\n",
    "total=1\n",
    "fact=1\n",
    "print(\"(1)\",end=\"+\")\n",
    "temp=x\n",
    "for i in range(1,n+1):\n",
    " print(f\"({x}/{fact})\",end=\"+\")\n",
    " total+=(x/fact)\n",
    " fact=fact*(i+1)\n",
    " x=temp**(i+1)\n",
    "print(\"\\b=\")\n",
    "print(f\"\\nthe ans is {total}\")\n"
   ]
  },
  {
   "cell_type": "code",
   "execution_count": 4,
   "id": "b6cb5eae",
   "metadata": {},
   "outputs": [
    {
     "name": "stdout",
     "output_type": "stream",
     "text": [
      "there were 48 number of even numbers generated and as follows :- [836, 208, 838, 606, 802, 630, 382, 512, 680, 816, 766, 484, 536, 780, 228, 740, 346, 900, 218, 458, 244, 616, 458, 842, 370, 756, 346, 344, 402, 670, 242, 110, 272, 636, 628, 394, 424, 690, 890, 338, 386, 732, 144, 542, 624, 156, 160, 188]\n",
      "\n",
      "there were 52 number of odd numbers generated and as follows :- [409, 175, 241, 345, 161, 527, 189, 223, 877, 791, 531, 537, 693, 579, 843, 609, 275, 893, 571, 179, 459, 289, 221, 153, 199, 101, 707, 183, 199, 683, 863, 301, 555, 225, 163, 753, 897, 147, 705, 375, 759, 889, 861, 529, 247, 401, 383, 159, 275, 569, 441, 455]\n",
      "\n",
      "there were 15 number of prime numbers generated and as follows :- [409, 241, 223, 877, 571, 179, 199, 101, 199, 683, 863, 163, 401, 383, 569]\n"
     ]
    }
   ],
   "source": [
    "#q2\n",
    "import sympy as p\n",
    "import random\n",
    "odd=[]\n",
    "even=[]\n",
    "prime=[]\n",
    "for i in range(100):\n",
    "     integer=random.randint(100,900)\n",
    "     if integer%2==0:\n",
    "         even.append(integer)\n",
    "     else:\n",
    "         odd.append(integer)\n",
    "     if p.isprime(integer):\n",
    "         prime.append(integer)\n",
    "print(f\"there were {len(even)} number of even numbers generated and as follows :- {even}\")\n",
    "print(f\"\\nthere were {len(odd)} number of odd numbers generated and as follows :- {odd}\")\n",
    "print(f\"\\nthere were {len(prime)} number of prime numbers generated and as follows :- {prime}\")"
   ]
  },
  {
   "cell_type": "code",
   "execution_count": 9,
   "id": "105be8c0",
   "metadata": {},
   "outputs": [
    {
     "name": "stdout",
     "output_type": "stream",
     "text": [
      "enter the two numbers in between whose prime numbers are to be found 1 100\n",
      "[2, 3, 5, 7, 11, 13, 17, 19, 23, 29, 31, 37, 41, 43, 47, 53, 59, 61, 67, 71, 73, 79, 83, 89, 97]\n"
     ]
    }
   ],
   "source": [
    "#q3\n",
    "import sympy as p\n",
    "prime=[]\n",
    "a,b=map(int,input('enter the two numbers in between whose prime numbers are to be found ').split())\n",
    "for i in range(a,b+1):\n",
    "    if p.isprime(i):\n",
    "        prime.append(i)\n",
    "print(prime)\n"
   ]
  },
  {
   "cell_type": "code",
   "execution_count": 10,
   "id": "fce780ef",
   "metadata": {},
   "outputs": [
    {
     "name": "stdout",
     "output_type": "stream",
     "text": [
      "the common elements are [10, 25, 30, 90]\n"
     ]
    }
   ],
   "source": [
    "#q4\n",
    "list1=[5, 10, 15, 20, 25, 30, 35, 40, 45, 50, 55, 60, 65, 70, 75, 80, 85, 90, 95]\n",
    "list2=[10, 25 , 30, 12, 58, 36, 91, 21, 39, 90, 89, 34, 69, 43, 42, 99, 102, 110, 53 ]\n",
    "list_common=[]\n",
    "for i in list1:\n",
    "    if i in list2:\n",
    "        list_common.append(i)\n",
    "print(f\"the common elements are {list_common}\")\n"
   ]
  },
  {
   "cell_type": "code",
   "execution_count": 12,
   "id": "0f5ec70d",
   "metadata": {},
   "outputs": [
    {
     "name": "stdout",
     "output_type": "stream",
     "text": [
      "enter the two numbers in between whose leap years are to be found 1000 2000\n",
      "the leap years between 1000-2000 are [1004, 1008, 1012, 1016, 1020, 1024, 1028, 1032, 1036, 1040, 1044, 1048, 1052, 1056, 1060, 1064, 1068, 1072, 1076, 1080, 1084, 1088, 1092, 1096, 1104, 1108, 1112, 1116, 1120, 1124, 1128, 1132, 1136, 1140, 1144, 1148, 1152, 1156, 1160, 1164, 1168, 1172, 1176, 1180, 1184, 1188, 1192, 1196, 1200, 1204, 1208, 1212, 1216, 1220, 1224, 1228, 1232, 1236, 1240, 1244, 1248, 1252, 1256, 1260, 1264, 1268, 1272, 1276, 1280, 1284, 1288, 1292, 1296, 1304, 1308, 1312, 1316, 1320, 1324, 1328, 1332, 1336, 1340, 1344, 1348, 1352, 1356, 1360, 1364, 1368, 1372, 1376, 1380, 1384, 1388, 1392, 1396, 1404, 1408, 1412, 1416, 1420, 1424, 1428, 1432, 1436, 1440, 1444, 1448, 1452, 1456, 1460, 1464, 1468, 1472, 1476, 1480, 1484, 1488, 1492, 1496, 1504, 1508, 1512, 1516, 1520, 1524, 1528, 1532, 1536, 1540, 1544, 1548, 1552, 1556, 1560, 1564, 1568, 1572, 1576, 1580, 1584, 1588, 1592, 1596, 1600, 1604, 1608, 1612, 1616, 1620, 1624, 1628, 1632, 1636, 1640, 1644, 1648, 1652, 1656, 1660, 1664, 1668, 1672, 1676, 1680, 1684, 1688, 1692, 1696, 1704, 1708, 1712, 1716, 1720, 1724, 1728, 1732, 1736, 1740, 1744, 1748, 1752, 1756, 1760, 1764, 1768, 1772, 1776, 1780, 1784, 1788, 1792, 1796, 1804, 1808, 1812, 1816, 1820, 1824, 1828, 1832, 1836, 1840, 1844, 1848, 1852, 1856, 1860, 1864, 1868, 1872, 1876, 1880, 1884, 1888, 1892, 1896, 1904, 1908, 1912, 1916, 1920, 1924, 1928, 1932, 1936, 1940, 1944, 1948, 1952, 1956, 1960, 1964, 1968, 1972, 1976, 1980, 1984, 1988, 1992, 1996, 2000]\n"
     ]
    }
   ],
   "source": [
    "#q5\n",
    "def is_leap(year):\n",
    "    leap = False\n",
    "    if year%4==0:\n",
    "        leap=True\n",
    "        if year %100==0:\n",
    "            leap=False\n",
    "            if year %400==0:\n",
    "                leap=True\n",
    "    return leap\n",
    "years=[]\n",
    "a,b=map(int,input('enter the two numbers in between whose leap years are to be found ').split())\n",
    "for i in range(a,b+1):\n",
    "    if is_leap(i):\n",
    "        years.append(i)\n",
    "print(f'the leap years between {a}-{b} are {years}')"
   ]
  },
  {
   "cell_type": "code",
   "execution_count": 13,
   "id": "d71f4ce1",
   "metadata": {},
   "outputs": [
    {
     "name": "stdout",
     "output_type": "stream",
     "text": [
      "enter the basic salary of person 15000\n",
      "gross salary=da(13500.0)+hra(3750.0)+basic(15000)=32250.0\n"
     ]
    }
   ],
   "source": [
    "#q6\n",
    "def da_hra(basic):\n",
    "    if basic<=10000:\n",
    "        hra=0.2*basic\n",
    "        da=0.8*basic\n",
    "    elif basic<=20000:\n",
    "        hra=0.25*basic\n",
    "        da=0.9*basic\n",
    "    elif basic>20000:\n",
    "        hra=0.3*basic\n",
    "        da=0.95*basic\n",
    "    return hra,da\n",
    "hra=basic=int(input('enter the basic salary of person '))\n",
    "hra,da=da_hra(basic)\n",
    "print(f'gross salary=da({da})+hra({hra})+basic({basic})={da+hra+basic}')"
   ]
  },
  {
   "cell_type": "code",
   "execution_count": 1,
   "id": "ec451e94",
   "metadata": {},
   "outputs": [
    {
     "name": "stdout",
     "output_type": "stream",
     "text": [
      "the password is valid\n"
     ]
    }
   ],
   "source": [
    "#q7\n",
    "password=input(\"enter the password \")\n",
    "special=['$','#','@']\n",
    "can_be_made=False\n",
    "if len(password)<16:\n",
    "    if len(password)>6:\n",
    "        for n in password :\n",
    "            if n.islower():\n",
    "                lower=1\n",
    "            elif n.isupper():\n",
    "                upper=1\n",
    "            elif n.isnumeric():\n",
    "                number=1\n",
    "            elif n in special:\n",
    "                special=1\n",
    "        if lower>0 and upper>0 and number>0 and special>0:\n",
    "            can_be_made=True\n",
    "if can_be_made:\n",
    "    print('the password is valid')\n",
    "else:\n",
    "    print('the password is invalid')"
   ]
  },
  {
   "cell_type": "code",
   "execution_count": 15,
   "id": "abeb44dc",
   "metadata": {},
   "outputs": [
    {
     "name": "stdout",
     "output_type": "stream",
     "text": [
      "the list in org is [10, 20, 30, 40, 50, 60, 70, 80]\n",
      "the list in i.) is [10, 20, 30, 40, 50, 60, 70, 80, 200, 300]\n",
      "the list in ii.) is [20, 40, 50, 60, 70, 80, 200, 300]\n",
      "the list in iii.) is [20, 40, 50, 60, 70, 80, 200, 300]\n",
      "the list in iv.) is [300, 200, 80, 70, 60, 50, 40, 20]\n"
     ]
    }
   ],
   "source": [
    "#q8\n",
    "l=[]\n",
    "for i in range(1,9):\n",
    "    l.append(10*i)\n",
    "print(f'the list in org is {l}')\n",
    "l.append(200)\n",
    "l.append(300)\n",
    "print(f'the list in i.) is {l}')\n",
    "l.remove(10)\n",
    "l.remove(30)\n",
    "print(f'the list in ii.) is {l}')\n",
    "l.sort()\n",
    "print(f'the list in iii.) is {l}')\n",
    "l.sort(reverse=True)\n",
    "print(f'the list in iv.) is {l}')"
   ]
  },
  {
   "cell_type": "code",
   "execution_count": 16,
   "id": "810d266a",
   "metadata": {},
   "outputs": [
    {
     "name": "stdout",
     "output_type": "stream",
     "text": [
      "the dictionary originally is {1: 'One', 2: 'Two', 3: 'Three', 4: 'Four', 5: 'Five'}\n",
      "the dictionary in i.) is {1: 'One', 2: 'Two', 3: 'Three', 4: 'Four', 5: 'Five', 6: 'Six'}\n",
      "the dictionary in ii.) is {1: 'One', 3: 'Three', 4: 'Four', 5: 'Five', 6: 'Six'}\n",
      "iii.)the boolean value of is key 6 is present in d is True\n",
      "iv.)the number of elements is 5\n",
      "v.)the sum of all the values is 19\n"
     ]
    }
   ],
   "source": [
    "#q9\n",
    "d={1:\"One\",2:\"Two\",3:\"Three\",4:\"Four\",5:\"Five\"}\n",
    "print(f'the dictionary originally is {d}')\n",
    "d[6]=\"Six\"\n",
    "print(f'the dictionary in i.) is {d}')\n",
    "d.pop(2)\n",
    "print(f'the dictionary in ii.) is {d}')\n",
    "print(f'iii.)the boolean value of is key 6 is present in d is {6 in d}')\n",
    "total=0\n",
    "count=0\n",
    "for i in d.keys():\n",
    "    total+=i\n",
    "    count+=1\n",
    "print(f'iv.)the number of elements is {count}\\nv.)the sum of all the values is {total}')"
   ]
  },
  {
   "cell_type": "code",
   "execution_count": 17,
   "id": "75cf3d3c",
   "metadata": {},
   "outputs": [
    {
     "name": "stdout",
     "output_type": "stream",
     "text": [
      "enter the value of p r and t 1000 5 4\n",
      "215.50625000000014\n"
     ]
    }
   ],
   "source": [
    "#q10\n",
    "def ci(p,r,t):\n",
    "    return (p*((1+r/100)**t))-p\n",
    "p,r,t=map(int,input('enter the value of p r and t ').split())\n",
    "print(ci(p,r,t))"
   ]
  },
  {
   "cell_type": "code",
   "execution_count": 5,
   "id": "4ae2db64",
   "metadata": {},
   "outputs": [
    {
     "name": "stdout",
     "output_type": "stream",
     "text": [
      "215.50625000000014\n"
     ]
    }
   ],
   "source": [
    "import q10part1\n",
    "p,r,t=map(int,input('enter the value of p r and t ').split())\n",
    "print(q10part1.ci(p,r,t))\n"
   ]
  }
 ],
 "metadata": {
  "kernelspec": {
   "display_name": "Python 3 (ipykernel)",
   "language": "python",
   "name": "python3"
  },
  "language_info": {
   "codemirror_mode": {
    "name": "ipython",
    "version": 3
   },
   "file_extension": ".py",
   "mimetype": "text/x-python",
   "name": "python",
   "nbconvert_exporter": "python",
   "pygments_lexer": "ipython3",
   "version": "3.9.10"
  }
 },
 "nbformat": 4,
 "nbformat_minor": 5
}
